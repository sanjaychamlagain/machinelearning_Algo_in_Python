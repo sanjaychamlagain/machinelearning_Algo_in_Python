{
 "cells": [
  {
   "cell_type": "code",
   "execution_count": 2,
   "metadata": {},
   "outputs": [],
   "source": [
    "import numpy as np\n",
    "import pandas as pd\n",
    "import matplotlib.pyplot as plt\n",
    "\n"
   ]
  },
  {
   "cell_type": "code",
   "execution_count": 72,
   "metadata": {},
   "outputs": [
    {
     "data": {
      "text/plain": [
       "dtype('float64')"
      ]
     },
     "execution_count": 72,
     "metadata": {},
     "output_type": "execute_result"
    }
   ],
   "source": [
    "dataset = pd.read_csv('house_data.csv')\n",
    "x = dataset.loc[:,[\"price\",\"sqft_living\"]]\n",
    "data=x.values\n",
    "N = len(data)\n",
    "data.dtype"
   ]
  },
  {
   "cell_type": "code",
   "execution_count": 82,
   "metadata": {},
   "outputs": [],
   "source": [
    "def compute_error(b, m):\n",
    "    totalError =0\n",
    "    for i in range(N):\n",
    "        space_x = data[i,1]\n",
    "        price_y = data[i,0]\n",
    "        totalError += (price_y - (m * space_x + b)) ** 2\n",
    "    return totalError / N\n",
    "        "
   ]
  },
  {
   "cell_type": "code",
   "execution_count": 79,
   "metadata": {},
   "outputs": [],
   "source": [
    "def step_gradient(b_current, m_current):\n",
    "    b_gradient = 0\n",
    "    m_gradient = 0\n",
    "    for i in range(N):\n",
    "        x = data[i,1]\n",
    "        y = data[i,0]\n",
    "        b_gradient += ((1/N) * (((m_current * x) + b_current) - y))\n",
    "        m_gradient += ((1/N) * (((m_current * x) + b_current) - y) * x)\n",
    "    new_b = b_current - (0.0001 * b_gradient)\n",
    "    new_m = m_current - (0.0001 * m_gradient)\n",
    "    return [new_b, new_m]"
   ]
  },
  {
   "cell_type": "code",
   "execution_count": 80,
   "metadata": {},
   "outputs": [],
   "source": [
    "def gradient_descent_runner(starting_b, starting_m):\n",
    "    b = starting_b\n",
    "    m = starting_m\n",
    "    for i in range(1000):\n",
    "        b,m = step_gradient(b, m)\n",
    "    return [b,m]"
   ]
  },
  {
   "cell_type": "code",
   "execution_count": 81,
   "metadata": {},
   "outputs": [
    {
     "name": "stdout",
     "output_type": "stream",
     "text": [
      "Starting Gradient descent at b = 0.0, m=0.0, error = 426471343102.3945\n",
      "Running...\n"
     ]
    },
    {
     "name": "stderr",
     "output_type": "stream",
     "text": [
      "/home/sanjay/PycharmProjects/machinelearning_algorithm/venv/lib/python3.6/site-packages/ipykernel_launcher.py:8: RuntimeWarning: overflow encountered in double_scalars\n",
      "  \n",
      "/home/sanjay/PycharmProjects/machinelearning_algorithm/venv/lib/python3.6/site-packages/ipykernel_launcher.py:10: RuntimeWarning: invalid value encountered in double_scalars\n",
      "  # Remove the CWD from sys.path while we load stuff.\n"
     ]
    },
    {
     "name": "stdout",
     "output_type": "stream",
     "text": [
      "nan nan nan\n"
     ]
    }
   ],
   "source": [
    "\n",
    "initial_b = float(0)\n",
    "initial_m = float(0)\n",
    "print(\"Starting Gradient descent at b = {0}, m={1}, error = {2}\".format(initial_b, initial_m, compute_error(initial_b, initial_m)))\n",
    "print(\"Running...\")\n",
    "b, m = gradient_descent_runner(initial_b, initial_m)\n",
    "print(b,m, compute_error(b,m))\n"
   ]
  },
  {
   "cell_type": "code",
   "execution_count": null,
   "metadata": {},
   "outputs": [],
   "source": []
  }
 ],
 "metadata": {
  "kernelspec": {
   "display_name": "Python 3",
   "language": "python",
   "name": "python3"
  },
  "language_info": {
   "codemirror_mode": {
    "name": "ipython",
    "version": 3
   },
   "file_extension": ".py",
   "mimetype": "text/x-python",
   "name": "python",
   "nbconvert_exporter": "python",
   "pygments_lexer": "ipython3",
   "version": "3.6.5"
  }
 },
 "nbformat": 4,
 "nbformat_minor": 2
}
