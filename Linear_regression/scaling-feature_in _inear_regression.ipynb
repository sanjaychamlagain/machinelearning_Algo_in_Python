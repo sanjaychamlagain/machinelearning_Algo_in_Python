{
 "cells": [
  {
   "cell_type": "code",
   "execution_count": 115,
   "metadata": {},
   "outputs": [],
   "source": [
    "import numpy as np\n",
    "import pandas as pd\n",
    "import matplotlib.pyplot as plt\n",
    "from mpl_toolkits.mplot3d import Axes3D\n",
    "from decimal import Decimal\n",
    "%matplotlib inline"
   ]
  },
  {
   "cell_type": "code",
   "execution_count": 116,
   "metadata": {},
   "outputs": [
    {
     "data": {
      "text/html": [
       "<div>\n",
       "<style scoped>\n",
       "    .dataframe tbody tr th:only-of-type {\n",
       "        vertical-align: middle;\n",
       "    }\n",
       "\n",
       "    .dataframe tbody tr th {\n",
       "        vertical-align: top;\n",
       "    }\n",
       "\n",
       "    .dataframe thead th {\n",
       "        text-align: right;\n",
       "    }\n",
       "</style>\n",
       "<table border=\"1\" class=\"dataframe\">\n",
       "  <thead>\n",
       "    <tr style=\"text-align: right;\">\n",
       "      <th></th>\n",
       "      <th>id</th>\n",
       "      <th>date</th>\n",
       "      <th>price</th>\n",
       "      <th>bedrooms</th>\n",
       "      <th>bathrooms</th>\n",
       "      <th>sqft_living</th>\n",
       "      <th>sqft_lot</th>\n",
       "      <th>floors</th>\n",
       "      <th>waterfront</th>\n",
       "      <th>view</th>\n",
       "      <th>...</th>\n",
       "      <th>grade</th>\n",
       "      <th>sqft_above</th>\n",
       "      <th>sqft_basement</th>\n",
       "      <th>yr_built</th>\n",
       "      <th>yr_renovated</th>\n",
       "      <th>zipcode</th>\n",
       "      <th>lat</th>\n",
       "      <th>long</th>\n",
       "      <th>sqft_living15</th>\n",
       "      <th>sqft_lot15</th>\n",
       "    </tr>\n",
       "  </thead>\n",
       "  <tbody>\n",
       "    <tr>\n",
       "      <th>0</th>\n",
       "      <td>7129300520</td>\n",
       "      <td>20141013T000000</td>\n",
       "      <td>221900.0</td>\n",
       "      <td>3</td>\n",
       "      <td>1.00</td>\n",
       "      <td>1180</td>\n",
       "      <td>5650</td>\n",
       "      <td>1.0</td>\n",
       "      <td>0</td>\n",
       "      <td>0</td>\n",
       "      <td>...</td>\n",
       "      <td>7</td>\n",
       "      <td>1180</td>\n",
       "      <td>0</td>\n",
       "      <td>1955</td>\n",
       "      <td>0</td>\n",
       "      <td>98178</td>\n",
       "      <td>47.5112</td>\n",
       "      <td>-122.257</td>\n",
       "      <td>1340</td>\n",
       "      <td>5650</td>\n",
       "    </tr>\n",
       "    <tr>\n",
       "      <th>1</th>\n",
       "      <td>6414100192</td>\n",
       "      <td>20141209T000000</td>\n",
       "      <td>538000.0</td>\n",
       "      <td>3</td>\n",
       "      <td>2.25</td>\n",
       "      <td>2570</td>\n",
       "      <td>7242</td>\n",
       "      <td>2.0</td>\n",
       "      <td>0</td>\n",
       "      <td>0</td>\n",
       "      <td>...</td>\n",
       "      <td>7</td>\n",
       "      <td>2170</td>\n",
       "      <td>400</td>\n",
       "      <td>1951</td>\n",
       "      <td>1991</td>\n",
       "      <td>98125</td>\n",
       "      <td>47.7210</td>\n",
       "      <td>-122.319</td>\n",
       "      <td>1690</td>\n",
       "      <td>7639</td>\n",
       "    </tr>\n",
       "    <tr>\n",
       "      <th>2</th>\n",
       "      <td>5631500400</td>\n",
       "      <td>20150225T000000</td>\n",
       "      <td>180000.0</td>\n",
       "      <td>2</td>\n",
       "      <td>1.00</td>\n",
       "      <td>770</td>\n",
       "      <td>10000</td>\n",
       "      <td>1.0</td>\n",
       "      <td>0</td>\n",
       "      <td>0</td>\n",
       "      <td>...</td>\n",
       "      <td>6</td>\n",
       "      <td>770</td>\n",
       "      <td>0</td>\n",
       "      <td>1933</td>\n",
       "      <td>0</td>\n",
       "      <td>98028</td>\n",
       "      <td>47.7379</td>\n",
       "      <td>-122.233</td>\n",
       "      <td>2720</td>\n",
       "      <td>8062</td>\n",
       "    </tr>\n",
       "    <tr>\n",
       "      <th>3</th>\n",
       "      <td>2487200875</td>\n",
       "      <td>20141209T000000</td>\n",
       "      <td>604000.0</td>\n",
       "      <td>4</td>\n",
       "      <td>3.00</td>\n",
       "      <td>1960</td>\n",
       "      <td>5000</td>\n",
       "      <td>1.0</td>\n",
       "      <td>0</td>\n",
       "      <td>0</td>\n",
       "      <td>...</td>\n",
       "      <td>7</td>\n",
       "      <td>1050</td>\n",
       "      <td>910</td>\n",
       "      <td>1965</td>\n",
       "      <td>0</td>\n",
       "      <td>98136</td>\n",
       "      <td>47.5208</td>\n",
       "      <td>-122.393</td>\n",
       "      <td>1360</td>\n",
       "      <td>5000</td>\n",
       "    </tr>\n",
       "    <tr>\n",
       "      <th>4</th>\n",
       "      <td>1954400510</td>\n",
       "      <td>20150218T000000</td>\n",
       "      <td>510000.0</td>\n",
       "      <td>3</td>\n",
       "      <td>2.00</td>\n",
       "      <td>1680</td>\n",
       "      <td>8080</td>\n",
       "      <td>1.0</td>\n",
       "      <td>0</td>\n",
       "      <td>0</td>\n",
       "      <td>...</td>\n",
       "      <td>8</td>\n",
       "      <td>1680</td>\n",
       "      <td>0</td>\n",
       "      <td>1987</td>\n",
       "      <td>0</td>\n",
       "      <td>98074</td>\n",
       "      <td>47.6168</td>\n",
       "      <td>-122.045</td>\n",
       "      <td>1800</td>\n",
       "      <td>7503</td>\n",
       "    </tr>\n",
       "  </tbody>\n",
       "</table>\n",
       "<p>5 rows × 21 columns</p>\n",
       "</div>"
      ],
      "text/plain": [
       "           id             date     price  bedrooms  bathrooms  sqft_living  \\\n",
       "0  7129300520  20141013T000000  221900.0         3       1.00         1180   \n",
       "1  6414100192  20141209T000000  538000.0         3       2.25         2570   \n",
       "2  5631500400  20150225T000000  180000.0         2       1.00          770   \n",
       "3  2487200875  20141209T000000  604000.0         4       3.00         1960   \n",
       "4  1954400510  20150218T000000  510000.0         3       2.00         1680   \n",
       "\n",
       "   sqft_lot  floors  waterfront  view     ...      grade  sqft_above  \\\n",
       "0      5650     1.0           0     0     ...          7        1180   \n",
       "1      7242     2.0           0     0     ...          7        2170   \n",
       "2     10000     1.0           0     0     ...          6         770   \n",
       "3      5000     1.0           0     0     ...          7        1050   \n",
       "4      8080     1.0           0     0     ...          8        1680   \n",
       "\n",
       "   sqft_basement  yr_built  yr_renovated  zipcode      lat     long  \\\n",
       "0              0      1955             0    98178  47.5112 -122.257   \n",
       "1            400      1951          1991    98125  47.7210 -122.319   \n",
       "2              0      1933             0    98028  47.7379 -122.233   \n",
       "3            910      1965             0    98136  47.5208 -122.393   \n",
       "4              0      1987             0    98074  47.6168 -122.045   \n",
       "\n",
       "   sqft_living15  sqft_lot15  \n",
       "0           1340        5650  \n",
       "1           1690        7639  \n",
       "2           2720        8062  \n",
       "3           1360        5000  \n",
       "4           1800        7503  \n",
       "\n",
       "[5 rows x 21 columns]"
      ]
     },
     "execution_count": 116,
     "metadata": {},
     "output_type": "execute_result"
    }
   ],
   "source": [
    "dataset=pd.read_csv(\"house_data.csv\")\n",
    "dataset.head()\n",
    "# this is pandas dataframe object"
   ]
  },
  {
   "cell_type": "code",
   "execution_count": 117,
   "metadata": {},
   "outputs": [
    {
     "data": {
      "text/html": [
       "<div>\n",
       "<style scoped>\n",
       "    .dataframe tbody tr th:only-of-type {\n",
       "        vertical-align: middle;\n",
       "    }\n",
       "\n",
       "    .dataframe tbody tr th {\n",
       "        vertical-align: top;\n",
       "    }\n",
       "\n",
       "    .dataframe thead th {\n",
       "        text-align: right;\n",
       "    }\n",
       "</style>\n",
       "<table border=\"1\" class=\"dataframe\">\n",
       "  <thead>\n",
       "    <tr style=\"text-align: right;\">\n",
       "      <th></th>\n",
       "      <th>sqft_living</th>\n",
       "      <th>price</th>\n",
       "    </tr>\n",
       "  </thead>\n",
       "  <tbody>\n",
       "    <tr>\n",
       "      <th>0</th>\n",
       "      <td>1180</td>\n",
       "      <td>221900.0</td>\n",
       "    </tr>\n",
       "    <tr>\n",
       "      <th>1</th>\n",
       "      <td>2570</td>\n",
       "      <td>538000.0</td>\n",
       "    </tr>\n",
       "    <tr>\n",
       "      <th>2</th>\n",
       "      <td>770</td>\n",
       "      <td>180000.0</td>\n",
       "    </tr>\n",
       "    <tr>\n",
       "      <th>3</th>\n",
       "      <td>1960</td>\n",
       "      <td>604000.0</td>\n",
       "    </tr>\n",
       "    <tr>\n",
       "      <th>4</th>\n",
       "      <td>1680</td>\n",
       "      <td>510000.0</td>\n",
       "    </tr>\n",
       "  </tbody>\n",
       "</table>\n",
       "</div>"
      ],
      "text/plain": [
       "   sqft_living     price\n",
       "0         1180  221900.0\n",
       "1         2570  538000.0\n",
       "2          770  180000.0\n",
       "3         1960  604000.0\n",
       "4         1680  510000.0"
      ]
     },
     "execution_count": 117,
     "metadata": {},
     "output_type": "execute_result"
    }
   ],
   "source": [
    "#lets slice sqft_living and price column for all rox\n",
    "x = dataset.loc[:,[\"sqft_living\",\"price\"]]\n",
    "x.head()\n",
    "\n"
   ]
  },
  {
   "cell_type": "code",
   "execution_count": 118,
   "metadata": {},
   "outputs": [
    {
     "data": {
      "text/plain": [
       "pandas.core.frame.DataFrame"
      ]
     },
     "execution_count": 118,
     "metadata": {},
     "output_type": "execute_result"
    }
   ],
   "source": [
    "type(x)\n",
    "# still dataframe object"
   ]
  },
  {
   "cell_type": "code",
   "execution_count": 119,
   "metadata": {
    "scrolled": true
   },
   "outputs": [
    {
     "data": {
      "text/plain": [
       "array([[  1.18 , 221.9  ],\n",
       "       [  2.57 , 538.   ],\n",
       "       [  0.77 , 180.   ],\n",
       "       ...,\n",
       "       [  1.02 , 402.101],\n",
       "       [  1.6  , 400.   ],\n",
       "       [  1.02 , 325.   ]])"
      ]
     },
     "execution_count": 119,
     "metadata": {},
     "output_type": "execute_result"
    }
   ],
   "source": [
    "#lets convert it in to numpy array as it will ve veryvery fast\n",
    "data = x.values\n",
    "# scaling by 1/1000\n",
    "a=data/1000\n",
    "data=a\n",
    "data"
   ]
  },
  {
   "cell_type": "code",
   "execution_count": 120,
   "metadata": {},
   "outputs": [
    {
     "data": {
      "text/plain": [
       "21613"
      ]
     },
     "execution_count": 120,
     "metadata": {},
     "output_type": "execute_result"
    }
   ],
   "source": [
    "N = len(data)\n",
    "N"
   ]
  },
  {
   "cell_type": "code",
   "execution_count": 121,
   "metadata": {},
   "outputs": [],
   "source": [
    "# lets build a function to scatter the point for reusability\n",
    "# it takes x axis and yaxis element to populate the graph\n",
    "def my_scatter_func(x,y):\n",
    "    plt.figure(figsize=(10,5))\n",
    "    plt.scatter(x,y,color=\"g\",label=\"ratings\")\n",
    "    plt.title(\"ADRvs Rating\")\n",
    "    plt.xlabel(\"ADR\")\n",
    "    plt.ylabel(\"Rating\")\n",
    "    plt.legend()"
   ]
  },
  {
   "cell_type": "code",
   "execution_count": 122,
   "metadata": {},
   "outputs": [
    {
     "data": {
      "image/png": "[encoded data removed]",
      "text/plain": [
       "<Figure size 720x360 with 1 Axes>"
      ]
     },
     "metadata": {
      "needs_background": "light"
     },
     "output_type": "display_data"
    }
   ],
   "source": [
    "# lets call my_scatter_function to scatter my points\n",
    "my_scatter_func(data[:,0],data[:,1])\n",
    "plt.show()"
   ]
  },
  {
   "cell_type": "code",
   "execution_count": 123,
   "metadata": {},
   "outputs": [],
   "source": [
    "# lets create a error_calculation function to calculate average error \n",
    "def error_calculation(m,b,data):\n",
    "    total_error = np.float128(0)\n",
    "\n",
    "    for i in range(N):\n",
    "        real_output = data[i,1]\n",
    "        x = data[i,0]\n",
    "        predicted_output = (m*x+b)\n",
    "        total_error+=float((predicted_output-real_output)**2)\n",
    "    return total_error\n",
    "\n",
    "    "
   ]
  },
  {
   "cell_type": "code",
   "execution_count": 124,
   "metadata": {},
   "outputs": [],
   "source": [
    "# lets create a my_plot_func to plot the line for reusability\n",
    "# here we anly supply x axis element for plot function so we calculate y-axis element inside the function\n",
    "def my_plot_func(b,m,data):\n",
    "    plt.plot(data[:,0],m*data[:,0]+b,label=\"fitting line\",color=\"r\")\n",
    "    plt.legend(loc=\"best\")"
   ]
  },
  {
   "cell_type": "code",
   "execution_count": 125,
   "metadata": {},
   "outputs": [
    {
     "data": {
      "image/png": "[encoded data removed]",
      "text/plain": [
       "<Figure size 720x360 with 1 Axes>"
      ]
     },
     "metadata": {
      "needs_background": "light"
     },
     "output_type": "display_data"
    }
   ],
   "source": [
    "#lets see the linner line fitting with b=2 and m=3\n",
    "# it seems funny.....HAHAHAHAHAHA\n",
    "my_scatter_func(data[:,0],data[:,1])\n",
    "my_plot_func(1,0.1,data)\n",
    "plt.show()"
   ]
  },
  {
   "cell_type": "code",
   "execution_count": 126,
   "metadata": {},
   "outputs": [
    {
     "data": {
      "text/plain": [
       "9030890821.386354016"
      ]
     },
     "execution_count": 126,
     "metadata": {},
     "output_type": "execute_result"
    }
   ],
   "source": [
    "#lets compute total error by calling ourpreviously defined error_calculation function \n",
    "#to see error for above fitting\n",
    "error=error_calculation(2,3,data)\n",
    "error"
   ]
  },
  {
   "cell_type": "code",
   "execution_count": null,
   "metadata": {},
   "outputs": [],
   "source": [
    "# lets visualize 3D graph of m and b with cost\n",
    "%matplotlib inline\n",
    "m=np.arange(100,300,1)\n",
    "b=np.arange(-100,100,1)\n",
    "\n",
    "fig=plt.figure(figsize=(18,8))\n",
    "fig1=fig.add_subplot(121,projection=\"3d\")\n",
    "fig1.view_init(elev=20,azim=220)\n",
    "x,y=np.meshgrid(m,b)\n",
    "cost=np.array([error_calculation(m,b,data) for m,b in zip(np.ravel(x),np.ravel(y))])\n",
    "z=cost.reshape(x.shape)\n",
    "fig1.plot_surface(x,y,z)\n",
    "fig1.set_xlabel(\"M\")\n",
    "fig1.set_ylabel(\"B\")\n",
    "fig1.set_zlabel(\"Cost\")\n",
    "plt.show()"
   ]
  },
  {
   "cell_type": "code",
   "execution_count": 127,
   "metadata": {},
   "outputs": [],
   "source": [
    "def gradient_descent_step(m,b,data):\n",
    "    \n",
    "    m_grad = 0\n",
    "    b_grad = 0\n",
    "    \n",
    "    for i in range(N):\n",
    "\n",
    "        #Get current pair (x,y)\n",
    "        x = data[i,0]\n",
    "        y = data[i,1]\n",
    "\n",
    "        #Update gradient\n",
    "        m_grad = m_grad + ((2/N)*((m*x+b)-y)*x)\n",
    "        b_grad = b_grad + ((2/N)*((m*x+b)-y))\n",
    "    \n",
    "    #Set the new 'better' updated 'm' and 'b'\n",
    "    m_updated = m - 0.001*m_grad\n",
    "    b_updated = b - 0.001*b_grad\n",
    "   \n",
    "    return m_updated,b_updated"
   ]
  },
  {
   "cell_type": "code",
   "execution_count": 130,
   "metadata": {},
   "outputs": [],
   "source": [
    "def gradient_descent_step_by_step(m_starting,b_starting,data,steps): #For doing it many times in an easy way \n",
    "    print(f'Starting line: y ={m_starting}X + {b_starting} and Error:{error_calculation(m_starting,b_starting,data)}')\n",
    "    m = m_starting\n",
    "    b = b_starting\n",
    "    for i in range(steps):\n",
    "        m,b = gradient_descent_step(m,b,data)\n",
    "        if(i % 500 == 0):\n",
    "            sse = error_calculation(m,b,data)\n",
    "            print(f'At step {i} - Line: y = {m}X + {b} - Error: {sse}')\n",
    "    \n",
    "    \n",
    "    print(f'At step {i} - Line: y = {m}X + {b} - Error: {sse}')\n",
    "    return m,b"
   ]
  },
  {
   "cell_type": "code",
   "execution_count": 136,
   "metadata": {},
   "outputs": [
    {
     "name": "stdout",
     "output_type": "stream",
     "text": [
      "Starting line: y =280X + -42 and Error:1477285191.56679\n",
      "At step 0 - Line: y = 279.999871466222X + -42.00056756877805 - Error: 1477285184.262801\n",
      "At step 500 - Line: y = 280.05926902275087X + -42.215996381827416 - Error: 1477282956.476139\n",
      "At step 1000 - Line: y = 280.13289584352304X + -42.39420630141494 - Error: 1477281346.9511263\n",
      "At step 1500 - Line: y = 280.1969605464036X + -42.54912707033774 - Error: 1477280130.2851374\n",
      "At step 2000 - Line: y = 280.25266073032566X + -42.683820489175865 - Error: 1477279210.5873353\n",
      "At step 2500 - Line: y = 280.3010883944948X + -42.800927599973505 - Error: 1477278515.3726628\n",
      "At step 3000 - Line: y = 280.34319307850996X + -42.902744567208345 - Error: 1477277989.8484745\n",
      "At step 3500 - Line: y = 280.3798003451707X + -42.99126775547887 - Error: 1477277592.59611\n",
      "At step 4000 - Line: y = 280.41162796729225X + -43.06823287312495 - Error: 1477277292.3065238\n",
      "At step 4500 - Line: y = 280.4393000013523X + -43.13514900493139 - Error: 1477277065.312694\n",
      "At step 5000 - Line: y = 280.4633590236104X + -43.1933282013376 - Error: 1477276893.7243302\n",
      "At step 5500 - Line: y = 280.4842767686069X + -43.24391120431599 - Error: 1477276764.017868\n",
      "At step 6000 - Line: y = 280.50246337864667X + -43.287889814340865 - Error: 1477276665.970623\n",
      "At step 6500 - Line: y = 280.51827544561587X + -43.326126337003295 - Error: 1477276591.8551004\n",
      "At step 7000 - Line: y = 280.53202300281885X + -43.35937049056992 - Error: 1477276535.8299596\n",
      "At step 7500 - Line: y = 280.5439756039185X + -43.38827410599889 - Error: 1477276493.4796357\n",
      "At step 8000 - Line: y = 280.5543676081804X + -43.41340390763984 - Error: 1477276461.4663305\n",
      "At step 8500 - Line: y = 280.5634027756459X + -43.43525262521872 - Error: 1477276437.266947\n",
      "At step 9000 - Line: y = 280.571258262333X + -43.45424865497938 - Error: 1477276418.9742358\n",
      "At step 9500 - Line: y = 280.57808809380214X + -43.47076445941283 - Error: 1477276405.1464748\n",
      "At step 9999 - Line: y = 280.58401511891054X + -43.485097109933555 - Error: 1477276405.1464748\n"
     ]
    }
   ],
   "source": [
    "M_STARTING = 280\n",
    "B_STARTING = -42\n",
    "NUM_STEPS = 10000\n",
    "m,b = gradient_descent_step_by_step(M_STARTING,B_STARTING,data,NUM_STEPS)"
   ]
  },
  {
   "cell_type": "code",
   "execution_count": 149,
   "metadata": {},
   "outputs": [
    {
     "data": {
      "image/png": "[encoded data removed]",
      "text/plain": [
       "<Figure size 720x360 with 1 Axes>"
      ]
     },
     "metadata": {
      "needs_background": "light"
     },
     "output_type": "display_data"
    }
   ],
   "source": [
    "my_scatter_func(data[:,0],data[:,1])\n",
    "my_plot_func(b,m,data)\n",
    "plt.show()"
   ]
  },
  {
   "cell_type": "code",
   "execution_count": 150,
   "metadata": {},
   "outputs": [
    {
     "data": {
      "text/plain": [
       "'The obtained line is y=280.58401511891054X+-43.485097109933555'"
      ]
     },
     "execution_count": 150,
     "metadata": {},
     "output_type": "execute_result"
    }
   ],
   "source": [
    "f'The obtained line is y={m}X+{b}' "
   ]
  }
 ],
 "metadata": {
  "kernelspec": {
   "display_name": "Python 3",
   "language": "python",
   "name": "python3"
  },
  "language_info": {
   "codemirror_mode": {
    "name": "ipython",
    "version": 3
   },
   "file_extension": ".py",
   "mimetype": "text/x-python",
   "name": "python",
   "nbconvert_exporter": "python",
   "pygments_lexer": "ipython3",
   "version": "3.6.5"
  }
 },
 "nbformat": 4,
 "nbformat_minor": 2
}
