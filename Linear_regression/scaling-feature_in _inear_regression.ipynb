{
 "cells": [
  {
   "cell_type": "code",
   "execution_count": 2,
   "metadata": {},
   "outputs": [],
   "source": [
    "import numpy as np\n",
    "import pandas as pd\n",
    "import matplotlib.pyplot as plt\n",
    "from mpl_toolkits.mplot3d import Axes3D\n",
    "%matplotlib inline"
   ]
  },
  {
   "cell_type": "code",
   "execution_count": 3,
   "metadata": {},
   "outputs": [
    {
     "data": {
      "text/html": [
       "<div>\n",
       "<style scoped>\n",
       "    .dataframe tbody tr th:only-of-type {\n",
       "        vertical-align: middle;\n",
       "    }\n",
       "\n",
       "    .dataframe tbody tr th {\n",
       "        vertical-align: top;\n",
       "    }\n",
       "\n",
       "    .dataframe thead th {\n",
       "        text-align: right;\n",
       "    }\n",
       "</style>\n",
       "<table border=\"1\" class=\"dataframe\">\n",
       "  <thead>\n",
       "    <tr style=\"text-align: right;\">\n",
       "      <th></th>\n",
       "      <th>id</th>\n",
       "      <th>date</th>\n",
       "      <th>price</th>\n",
       "      <th>bedrooms</th>\n",
       "      <th>bathrooms</th>\n",
       "      <th>sqft_living</th>\n",
       "      <th>sqft_lot</th>\n",
       "      <th>floors</th>\n",
       "      <th>waterfront</th>\n",
       "      <th>view</th>\n",
       "      <th>...</th>\n",
       "      <th>grade</th>\n",
       "      <th>sqft_above</th>\n",
       "      <th>sqft_basement</th>\n",
       "      <th>yr_built</th>\n",
       "      <th>yr_renovated</th>\n",
       "      <th>zipcode</th>\n",
       "      <th>lat</th>\n",
       "      <th>long</th>\n",
       "      <th>sqft_living15</th>\n",
       "      <th>sqft_lot15</th>\n",
       "    </tr>\n",
       "  </thead>\n",
       "  <tbody>\n",
       "    <tr>\n",
       "      <th>0</th>\n",
       "      <td>7129300520</td>\n",
       "      <td>20141013T000000</td>\n",
       "      <td>221900.0</td>\n",
       "      <td>3</td>\n",
       "      <td>1.00</td>\n",
       "      <td>1180</td>\n",
       "      <td>5650</td>\n",
       "      <td>1.0</td>\n",
       "      <td>0</td>\n",
       "      <td>0</td>\n",
       "      <td>...</td>\n",
       "      <td>7</td>\n",
       "      <td>1180</td>\n",
       "      <td>0</td>\n",
       "      <td>1955</td>\n",
       "      <td>0</td>\n",
       "      <td>98178</td>\n",
       "      <td>47.5112</td>\n",
       "      <td>-122.257</td>\n",
       "      <td>1340</td>\n",
       "      <td>5650</td>\n",
       "    </tr>\n",
       "    <tr>\n",
       "      <th>1</th>\n",
       "      <td>6414100192</td>\n",
       "      <td>20141209T000000</td>\n",
       "      <td>538000.0</td>\n",
       "      <td>3</td>\n",
       "      <td>2.25</td>\n",
       "      <td>2570</td>\n",
       "      <td>7242</td>\n",
       "      <td>2.0</td>\n",
       "      <td>0</td>\n",
       "      <td>0</td>\n",
       "      <td>...</td>\n",
       "      <td>7</td>\n",
       "      <td>2170</td>\n",
       "      <td>400</td>\n",
       "      <td>1951</td>\n",
       "      <td>1991</td>\n",
       "      <td>98125</td>\n",
       "      <td>47.7210</td>\n",
       "      <td>-122.319</td>\n",
       "      <td>1690</td>\n",
       "      <td>7639</td>\n",
       "    </tr>\n",
       "    <tr>\n",
       "      <th>2</th>\n",
       "      <td>5631500400</td>\n",
       "      <td>20150225T000000</td>\n",
       "      <td>180000.0</td>\n",
       "      <td>2</td>\n",
       "      <td>1.00</td>\n",
       "      <td>770</td>\n",
       "      <td>10000</td>\n",
       "      <td>1.0</td>\n",
       "      <td>0</td>\n",
       "      <td>0</td>\n",
       "      <td>...</td>\n",
       "      <td>6</td>\n",
       "      <td>770</td>\n",
       "      <td>0</td>\n",
       "      <td>1933</td>\n",
       "      <td>0</td>\n",
       "      <td>98028</td>\n",
       "      <td>47.7379</td>\n",
       "      <td>-122.233</td>\n",
       "      <td>2720</td>\n",
       "      <td>8062</td>\n",
       "    </tr>\n",
       "    <tr>\n",
       "      <th>3</th>\n",
       "      <td>2487200875</td>\n",
       "      <td>20141209T000000</td>\n",
       "      <td>604000.0</td>\n",
       "      <td>4</td>\n",
       "      <td>3.00</td>\n",
       "      <td>1960</td>\n",
       "      <td>5000</td>\n",
       "      <td>1.0</td>\n",
       "      <td>0</td>\n",
       "      <td>0</td>\n",
       "      <td>...</td>\n",
       "      <td>7</td>\n",
       "      <td>1050</td>\n",
       "      <td>910</td>\n",
       "      <td>1965</td>\n",
       "      <td>0</td>\n",
       "      <td>98136</td>\n",
       "      <td>47.5208</td>\n",
       "      <td>-122.393</td>\n",
       "      <td>1360</td>\n",
       "      <td>5000</td>\n",
       "    </tr>\n",
       "    <tr>\n",
       "      <th>4</th>\n",
       "      <td>1954400510</td>\n",
       "      <td>20150218T000000</td>\n",
       "      <td>510000.0</td>\n",
       "      <td>3</td>\n",
       "      <td>2.00</td>\n",
       "      <td>1680</td>\n",
       "      <td>8080</td>\n",
       "      <td>1.0</td>\n",
       "      <td>0</td>\n",
       "      <td>0</td>\n",
       "      <td>...</td>\n",
       "      <td>8</td>\n",
       "      <td>1680</td>\n",
       "      <td>0</td>\n",
       "      <td>1987</td>\n",
       "      <td>0</td>\n",
       "      <td>98074</td>\n",
       "      <td>47.6168</td>\n",
       "      <td>-122.045</td>\n",
       "      <td>1800</td>\n",
       "      <td>7503</td>\n",
       "    </tr>\n",
       "  </tbody>\n",
       "</table>\n",
       "<p>5 rows × 21 columns</p>\n",
       "</div>"
      ],
      "text/plain": [
       "           id             date     price  bedrooms  bathrooms  sqft_living  \\\n",
       "0  7129300520  20141013T000000  221900.0         3       1.00         1180   \n",
       "1  6414100192  20141209T000000  538000.0         3       2.25         2570   \n",
       "2  5631500400  20150225T000000  180000.0         2       1.00          770   \n",
       "3  2487200875  20141209T000000  604000.0         4       3.00         1960   \n",
       "4  1954400510  20150218T000000  510000.0         3       2.00         1680   \n",
       "\n",
       "   sqft_lot  floors  waterfront  view     ...      grade  sqft_above  \\\n",
       "0      5650     1.0           0     0     ...          7        1180   \n",
       "1      7242     2.0           0     0     ...          7        2170   \n",
       "2     10000     1.0           0     0     ...          6         770   \n",
       "3      5000     1.0           0     0     ...          7        1050   \n",
       "4      8080     1.0           0     0     ...          8        1680   \n",
       "\n",
       "   sqft_basement  yr_built  yr_renovated  zipcode      lat     long  \\\n",
       "0              0      1955             0    98178  47.5112 -122.257   \n",
       "1            400      1951          1991    98125  47.7210 -122.319   \n",
       "2              0      1933             0    98028  47.7379 -122.233   \n",
       "3            910      1965             0    98136  47.5208 -122.393   \n",
       "4              0      1987             0    98074  47.6168 -122.045   \n",
       "\n",
       "   sqft_living15  sqft_lot15  \n",
       "0           1340        5650  \n",
       "1           1690        7639  \n",
       "2           2720        8062  \n",
       "3           1360        5000  \n",
       "4           1800        7503  \n",
       "\n",
       "[5 rows x 21 columns]"
      ]
     },
     "execution_count": 3,
     "metadata": {},
     "output_type": "execute_result"
    }
   ],
   "source": [
    "dataset=pd.read_csv(\"house_data.csv\")\n",
    "dataset.head()\n",
    "# this is pandas dataframe object"
   ]
  },
  {
   "cell_type": "code",
   "execution_count": 4,
   "metadata": {},
   "outputs": [
    {
     "data": {
      "text/html": [
       "<div>\n",
       "<style scoped>\n",
       "    .dataframe tbody tr th:only-of-type {\n",
       "        vertical-align: middle;\n",
       "    }\n",
       "\n",
       "    .dataframe tbody tr th {\n",
       "        vertical-align: top;\n",
       "    }\n",
       "\n",
       "    .dataframe thead th {\n",
       "        text-align: right;\n",
       "    }\n",
       "</style>\n",
       "<table border=\"1\" class=\"dataframe\">\n",
       "  <thead>\n",
       "    <tr style=\"text-align: right;\">\n",
       "      <th></th>\n",
       "      <th>sqft_living</th>\n",
       "      <th>price</th>\n",
       "    </tr>\n",
       "  </thead>\n",
       "  <tbody>\n",
       "    <tr>\n",
       "      <th>0</th>\n",
       "      <td>1180</td>\n",
       "      <td>221900.0</td>\n",
       "    </tr>\n",
       "    <tr>\n",
       "      <th>1</th>\n",
       "      <td>2570</td>\n",
       "      <td>538000.0</td>\n",
       "    </tr>\n",
       "    <tr>\n",
       "      <th>2</th>\n",
       "      <td>770</td>\n",
       "      <td>180000.0</td>\n",
       "    </tr>\n",
       "    <tr>\n",
       "      <th>3</th>\n",
       "      <td>1960</td>\n",
       "      <td>604000.0</td>\n",
       "    </tr>\n",
       "    <tr>\n",
       "      <th>4</th>\n",
       "      <td>1680</td>\n",
       "      <td>510000.0</td>\n",
       "    </tr>\n",
       "  </tbody>\n",
       "</table>\n",
       "</div>"
      ],
      "text/plain": [
       "   sqft_living     price\n",
       "0         1180  221900.0\n",
       "1         2570  538000.0\n",
       "2          770  180000.0\n",
       "3         1960  604000.0\n",
       "4         1680  510000.0"
      ]
     },
     "execution_count": 4,
     "metadata": {},
     "output_type": "execute_result"
    }
   ],
   "source": [
    "#lets slice sqft_living and price column for all rox\n",
    "x = dataset.loc[:,[\"sqft_living\",\"price\"]]\n",
    "x.head()\n",
    "\n"
   ]
  },
  {
   "cell_type": "code",
   "execution_count": 11,
   "metadata": {},
   "outputs": [
    {
     "data": {
      "text/html": [
       "<div>\n",
       "<style scoped>\n",
       "    .dataframe tbody tr th:only-of-type {\n",
       "        vertical-align: middle;\n",
       "    }\n",
       "\n",
       "    .dataframe tbody tr th {\n",
       "        vertical-align: top;\n",
       "    }\n",
       "\n",
       "    .dataframe thead th {\n",
       "        text-align: right;\n",
       "    }\n",
       "</style>\n",
       "<table border=\"1\" class=\"dataframe\">\n",
       "  <thead>\n",
       "    <tr style=\"text-align: right;\">\n",
       "      <th></th>\n",
       "      <th>sqft_living</th>\n",
       "      <th>price</th>\n",
       "    </tr>\n",
       "  </thead>\n",
       "  <tbody>\n",
       "    <tr>\n",
       "      <th>0</th>\n",
       "      <td>-0.979812</td>\n",
       "      <td>-0.866697</td>\n",
       "    </tr>\n",
       "    <tr>\n",
       "      <th>1</th>\n",
       "      <td>0.533622</td>\n",
       "      <td>-0.005688</td>\n",
       "    </tr>\n",
       "    <tr>\n",
       "      <th>2</th>\n",
       "      <td>-1.426221</td>\n",
       "      <td>-0.980827</td>\n",
       "    </tr>\n",
       "    <tr>\n",
       "      <th>3</th>\n",
       "      <td>-0.130547</td>\n",
       "      <td>0.174086</td>\n",
       "    </tr>\n",
       "    <tr>\n",
       "      <th>4</th>\n",
       "      <td>-0.435412</td>\n",
       "      <td>-0.081956</td>\n",
       "    </tr>\n",
       "  </tbody>\n",
       "</table>\n",
       "</div>"
      ],
      "text/plain": [
       "   sqft_living     price\n",
       "0    -0.979812 -0.866697\n",
       "1     0.533622 -0.005688\n",
       "2    -1.426221 -0.980827\n",
       "3    -0.130547  0.174086\n",
       "4    -0.435412 -0.081956"
      ]
     },
     "execution_count": 11,
     "metadata": {},
     "output_type": "execute_result"
    }
   ],
   "source": [
    "data=(x-x.mean())/x.std()\n",
    "data.head()"
   ]
  },
  {
   "cell_type": "code",
   "execution_count": 5,
   "metadata": {},
   "outputs": [
    {
     "data": {
      "text/plain": [
       "pandas.core.frame.DataFrame"
      ]
     },
     "execution_count": 5,
     "metadata": {},
     "output_type": "execute_result"
    }
   ],
   "source": [
    "type(x)\n",
    "# still dataframe object"
   ]
  },
  {
   "cell_type": "code",
   "execution_count": 15,
   "metadata": {},
   "outputs": [],
   "source": [
    "data=data.values\n",
    "N = len(data)\n"
   ]
  },
  {
   "cell_type": "code",
   "execution_count": 13,
   "metadata": {},
   "outputs": [],
   "source": [
    "# lets build a function to scatter the point for reusability\n",
    "# it takes x axis and yaxis element to populate the graph\n",
    "def my_scatter_func(x,y):\n",
    "    plt.figure(figsize=(10,5))\n",
    "    plt.scatter(x,y,color=\"g\",label=\"ratings\")\n",
    "    plt.title(\"ADRvs Rating\")\n",
    "    plt.xlabel(\"ADR\")\n",
    "    plt.ylabel(\"Rating\")\n",
    "    plt.legend()"
   ]
  },
  {
   "cell_type": "code",
   "execution_count": 17,
   "metadata": {},
   "outputs": [
    {
     "data": {
      "image/png": "[encoded data removed]",
      "text/plain": [
       "<Figure size 720x360 with 1 Axes>"
      ]
     },
     "metadata": {
      "needs_background": "light"
     },
     "output_type": "display_data"
    }
   ],
   "source": [
    "# lets call my_scatter_function to scatter my points\n",
    "my_scatter_func(data[:,0],data[:,1])\n",
    "plt.show()"
   ]
  },
  {
   "cell_type": "code",
   "execution_count": 18,
   "metadata": {},
   "outputs": [],
   "source": [
    "# lets create a error_calculation function to calculate average error \n",
    "def error_calculation(m,b,data):\n",
    "    total_error = 0\n",
    "\n",
    "    for i in range(N):\n",
    "        real_output = data[i,1]\n",
    "        x = data[i,0]\n",
    "        predicted_output = (m*x+b)\n",
    "        total_error+=float((predicted_output-real_output)**2)\n",
    "    return total_error\n",
    "\n",
    "    "
   ]
  },
  {
   "cell_type": "code",
   "execution_count": 19,
   "metadata": {},
   "outputs": [],
   "source": [
    "# lets create a my_plot_func to plot the line for reusability\n",
    "# here we anly supply x axis element for plot function so we calculate y-axis element inside the function\n",
    "def my_plot_func(b,m,data):\n",
    "    plt.plot(data[:,0],m*data[:,0]+b,label=\"fitting line\",color=\"r\")\n",
    "    plt.legend(loc=\"best\")"
   ]
  },
  {
   "cell_type": "code",
   "execution_count": 125,
   "metadata": {},
   "outputs": [
    {
     "data": {
      "image/png": "[encoded data removed]",
      "text/plain": [
       "<Figure size 720x360 with 1 Axes>"
      ]
     },
     "metadata": {
      "needs_background": "light"
     },
     "output_type": "display_data"
    }
   ],
   "source": [
    "#lets see the linner line fitting with b=2 and m=3\n",
    "# it seems funny.....HAHAHAHAHAHA\n",
    "my_scatter_func(data[:,0],data[:,1])\n",
    "my_plot_func(1,0.1,data)\n",
    "plt.show()"
   ]
  },
  {
   "cell_type": "code",
   "execution_count": 20,
   "metadata": {},
   "outputs": [
    {
     "data": {
      "text/plain": [
       "241887.47359891928"
      ]
     },
     "execution_count": 20,
     "metadata": {},
     "output_type": "execute_result"
    }
   ],
   "source": [
    "#lets compute total error by calling ourpreviously defined error_calculation function \n",
    "#to see error for above fitting\n",
    "error=error_calculation(2,3,data)\n",
    "error"
   ]
  },
  {
   "cell_type": "code",
   "execution_count": null,
   "metadata": {},
   "outputs": [],
   "source": [
    "# lets visualize 3D graph of m and b with cost\n",
    "%matplotlib inline\n",
    "m=np.arange(-5,5,0.1)\n",
    "b=np.arange(-5,5,0.1)\n",
    "\n",
    "fig=plt.figure(figsize=(18,8))\n",
    "fig1=fig.add_subplot(121,projection=\"3d\")\n",
    "fig1.view_init(elev=20,azim=220)\n",
    "x,y=np.meshgrid(m,b)\n",
    "cost=np.array([error_calculation(m,b,data) for m,b in zip(np.ravel(x),np.ravel(y))])\n",
    "z=cost.reshape(x.shape)\n",
    "fig1.plot_surface(x,y,z)\n",
    "fig1.set_xlabel(\"M\")\n",
    "fig1.set_ylabel(\"B\")\n",
    "fig1.set_zlabel(\"Cost\")\n",
    "plt.show()"
   ]
  },
  {
   "cell_type": "code",
   "execution_count": 21,
   "metadata": {},
   "outputs": [],
   "source": [
    "def gradient_descent_step(m,b,data):\n",
    "    \n",
    "    m_grad = 0\n",
    "    b_grad = 0\n",
    "    \n",
    "    for i in range(N):\n",
    "\n",
    "        #Get current pair (x,y)\n",
    "        x = data[i,0]\n",
    "        y = data[i,1]\n",
    "\n",
    "        #Update gradient\n",
    "        m_grad = m_grad + ((2/N)*((m*x+b)-y)*x)\n",
    "        b_grad = b_grad + ((2/N)*((m*x+b)-y))\n",
    "    \n",
    "    #Set the new 'better' updated 'm' and 'b'\n",
    "    m_updated = m - 0.001*m_grad\n",
    "    b_updated = b - 0.001*b_grad\n",
    "   \n",
    "    return m_updated,b_updated"
   ]
  },
  {
   "cell_type": "code",
   "execution_count": 26,
   "metadata": {},
   "outputs": [],
   "source": [
    "def gradient_descent_step_by_step(m_starting,b_starting,data,steps): #For doing it many times in an easy way \n",
    "    print(f'Starting line: y ={m_starting}X + {b_starting} and Error:{error_calculation(m_starting,b_starting,data)}')\n",
    "    m = m_starting\n",
    "    b = b_starting\n",
    "    for i in range(steps):\n",
    "        m,b = gradient_descent_step(m,b,data)\n",
    "        if(i % 500 == 0):\n",
    "            sse = error_calculation(m,b,data)\n",
    "            print(f'At step {i} - Line: y = {m}X + {b} - Error: {sse}')\n",
    "    \n",
    "    \n",
    "    print(f'At step {i} - Line: y = {m}X + {b} - Error: {sse}')\n",
    "    return m,b"
   ]
  },
  {
   "cell_type": "code",
   "execution_count": 27,
   "metadata": {},
   "outputs": [
    {
     "name": "stdout",
     "output_type": "stream",
     "text": [
      "Starting line: y =0X + 0 and Error:21611.999999999873\n",
      "At step 0 - Line: y = 0.0014040051450765923X + -3.581255300991182e-20 - Error: 21569.4383985727\n",
      "At step 500 - Line: y = 0.4445333206255264X + -6.811367842093814e-17 - Error: 12393.486229307518\n",
      "At step 1000 - Line: y = 0.6073958817455589X + -1.3112361815428105e-16 - Error: 11154.025711221064\n",
      "At step 1500 - Line: y = 0.6672524809096614X + -1.6836069931642386e-16 - Error: 10986.603045152713\n",
      "At step 2000 - Line: y = 0.6892514746553836X + -1.7911011323508955e-16 - Error: 10963.988085898634\n",
      "At step 2500 - Line: y = 0.6973367272855492X + -1.879451581540615e-16 - Error: 10960.933323995327\n",
      "At step 3000 - Line: y = 0.7003082863872612X + -1.942750455332883e-16 - Error: 10960.52069577958\n",
      "At step 3500 - Line: y = 0.7014004184329583X + -1.9428023276305748e-16 - Error: 10960.464959178886\n",
      "At step 4000 - Line: y = 0.7018018078599954X + -1.9424528757178584e-16 - Error: 10960.457430443465\n",
      "At step 4500 - Line: y = 0.7019493298311438X + -1.9432149343198443e-16 - Error: 10960.456413484024\n",
      "At step 5000 - Line: y = 0.702003548329455X + -1.9429459166557987e-16 - Error: 10960.456276116292\n",
      "At step 5500 - Line: y = 0.7020234751616163X + -1.9430628072025214e-16 - Error: 10960.456257561125\n",
      "At step 6000 - Line: y = 0.7020307988362346X + -1.9434288609610085e-16 - Error: 10960.456255054683\n",
      "At step 6500 - Line: y = 0.7020334904938689X + -1.9427530303130547e-16 - Error: 10960.456254716075\n",
      "At step 7000 - Line: y = 0.702034479754206X + -1.943017304592598e-16 - Error: 10960.456254670335\n",
      "At step 7500 - Line: y = 0.702034843335369X + -1.943125589284574e-16 - Error: 10960.456254664228\n",
      "At step 8000 - Line: y = 0.7020349769617341X + -1.9430083260433577e-16 - Error: 10960.456254663402\n",
      "At step 8500 - Line: y = 0.7020350260732042X + -1.9429962981755051e-16 - Error: 10960.456254663224\n",
      "At step 9000 - Line: y = 0.7020350441230593X + -1.9427974487208083e-16 - Error: 10960.456254663282\n",
      "At step 9500 - Line: y = 0.7020350507568912X + -1.9428443404647655e-16 - Error: 10960.456254663291\n",
      "At step 9999 - Line: y = 0.7020350531921733X + -1.943422491273241e-16 - Error: 10960.456254663291\n"
     ]
    }
   ],
   "source": [
    "M_STARTING = 0\n",
    "B_STARTING = 0\n",
    "NUM_STEPS = 10000\n",
    "m,b = gradient_descent_step_by_step(M_STARTING,B_STARTING,data,NUM_STEPS)"
   ]
  },
  {
   "cell_type": "code",
   "execution_count": 28,
   "metadata": {},
   "outputs": [
    {
     "data": {
      "image/png": "[encoded data removed]",
      "text/plain": [
       "<Figure size 720x360 with 1 Axes>"
      ]
     },
     "metadata": {
      "needs_background": "light"
     },
     "output_type": "display_data"
    }
   ],
   "source": [
    "my_scatter_func(data[:,0],data[:,1])\n",
    "my_plot_func(b,m,data)\n",
    "plt.show()"
   ]
  },
  {
   "cell_type": "code",
   "execution_count": 29,
   "metadata": {},
   "outputs": [
    {
     "data": {
      "text/plain": [
       "'The obtained line is y=0.7020350531921733X+-1.943422491273241e-16'"
      ]
     },
     "execution_count": 29,
     "metadata": {},
     "output_type": "execute_result"
    }
   ],
   "source": [
    "f'The obtained line is y={m}X+{b}' "
   ]
  },
  {
   "cell_type": "code",
   "execution_count": 30,
   "metadata": {},
   "outputs": [],
   "source": [
    "# for testing first do feature scaling for independent frature and computedesired value Y\n",
    "# since our y is also featured scale apply reverse feature scaling to output as we have to scale back it to orginalfor\n",
    "#y*std+mean\n"
   ]
  },
  {
   "cell_type": "code",
   "execution_count": null,
   "metadata": {},
   "outputs": [],
   "source": []
  }
 ],
 "metadata": {
  "kernelspec": {
   "display_name": "Python 3",
   "language": "python",
   "name": "python3"
  },
  "language_info": {
   "codemirror_mode": {
    "name": "ipython",
    "version": 3
   },
   "file_extension": ".py",
   "mimetype": "text/x-python",
   "name": "python",
   "nbconvert_exporter": "python",
   "pygments_lexer": "ipython3",
   "version": "3.6.5"
  }
 },
 "nbformat": 4,
 "nbformat_minor": 2
}
