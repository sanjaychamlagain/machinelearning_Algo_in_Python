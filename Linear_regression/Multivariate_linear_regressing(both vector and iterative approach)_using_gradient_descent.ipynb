{
 "cells": [
  {
   "cell_type": "code",
   "execution_count": 55,
   "metadata": {},
   "outputs": [],
   "source": [
    "import numpy as np\n",
    "import pandas as pd\n",
    "import matplotlib.pyplot as plt\n",
    "%matplotlib inline"
   ]
  },
  {
   "cell_type": "code",
   "execution_count": 56,
   "metadata": {},
   "outputs": [
    {
     "data": {
      "text/html": [
       "<div>\n",
       "<style scoped>\n",
       "    .dataframe tbody tr th:only-of-type {\n",
       "        vertical-align: middle;\n",
       "    }\n",
       "\n",
       "    .dataframe tbody tr th {\n",
       "        vertical-align: top;\n",
       "    }\n",
       "\n",
       "    .dataframe thead th {\n",
       "        text-align: right;\n",
       "    }\n",
       "</style>\n",
       "<table border=\"1\" class=\"dataframe\">\n",
       "  <thead>\n",
       "    <tr style=\"text-align: right;\">\n",
       "      <th></th>\n",
       "      <th>id</th>\n",
       "      <th>date</th>\n",
       "      <th>price</th>\n",
       "      <th>bedrooms</th>\n",
       "      <th>bathrooms</th>\n",
       "      <th>sqft_living</th>\n",
       "      <th>sqft_lot</th>\n",
       "      <th>floors</th>\n",
       "      <th>waterfront</th>\n",
       "      <th>view</th>\n",
       "      <th>...</th>\n",
       "      <th>grade</th>\n",
       "      <th>sqft_above</th>\n",
       "      <th>sqft_basement</th>\n",
       "      <th>yr_built</th>\n",
       "      <th>yr_renovated</th>\n",
       "      <th>zipcode</th>\n",
       "      <th>lat</th>\n",
       "      <th>long</th>\n",
       "      <th>sqft_living15</th>\n",
       "      <th>sqft_lot15</th>\n",
       "    </tr>\n",
       "  </thead>\n",
       "  <tbody>\n",
       "    <tr>\n",
       "      <th>0</th>\n",
       "      <td>7129300520</td>\n",
       "      <td>20141013T000000</td>\n",
       "      <td>221900.0</td>\n",
       "      <td>3</td>\n",
       "      <td>1.00</td>\n",
       "      <td>1180</td>\n",
       "      <td>5650</td>\n",
       "      <td>1.0</td>\n",
       "      <td>0</td>\n",
       "      <td>0</td>\n",
       "      <td>...</td>\n",
       "      <td>7</td>\n",
       "      <td>1180</td>\n",
       "      <td>0</td>\n",
       "      <td>1955</td>\n",
       "      <td>0</td>\n",
       "      <td>98178</td>\n",
       "      <td>47.5112</td>\n",
       "      <td>-122.257</td>\n",
       "      <td>1340</td>\n",
       "      <td>5650</td>\n",
       "    </tr>\n",
       "    <tr>\n",
       "      <th>1</th>\n",
       "      <td>6414100192</td>\n",
       "      <td>20141209T000000</td>\n",
       "      <td>538000.0</td>\n",
       "      <td>3</td>\n",
       "      <td>2.25</td>\n",
       "      <td>2570</td>\n",
       "      <td>7242</td>\n",
       "      <td>2.0</td>\n",
       "      <td>0</td>\n",
       "      <td>0</td>\n",
       "      <td>...</td>\n",
       "      <td>7</td>\n",
       "      <td>2170</td>\n",
       "      <td>400</td>\n",
       "      <td>1951</td>\n",
       "      <td>1991</td>\n",
       "      <td>98125</td>\n",
       "      <td>47.7210</td>\n",
       "      <td>-122.319</td>\n",
       "      <td>1690</td>\n",
       "      <td>7639</td>\n",
       "    </tr>\n",
       "    <tr>\n",
       "      <th>2</th>\n",
       "      <td>5631500400</td>\n",
       "      <td>20150225T000000</td>\n",
       "      <td>180000.0</td>\n",
       "      <td>2</td>\n",
       "      <td>1.00</td>\n",
       "      <td>770</td>\n",
       "      <td>10000</td>\n",
       "      <td>1.0</td>\n",
       "      <td>0</td>\n",
       "      <td>0</td>\n",
       "      <td>...</td>\n",
       "      <td>6</td>\n",
       "      <td>770</td>\n",
       "      <td>0</td>\n",
       "      <td>1933</td>\n",
       "      <td>0</td>\n",
       "      <td>98028</td>\n",
       "      <td>47.7379</td>\n",
       "      <td>-122.233</td>\n",
       "      <td>2720</td>\n",
       "      <td>8062</td>\n",
       "    </tr>\n",
       "    <tr>\n",
       "      <th>3</th>\n",
       "      <td>2487200875</td>\n",
       "      <td>20141209T000000</td>\n",
       "      <td>604000.0</td>\n",
       "      <td>4</td>\n",
       "      <td>3.00</td>\n",
       "      <td>1960</td>\n",
       "      <td>5000</td>\n",
       "      <td>1.0</td>\n",
       "      <td>0</td>\n",
       "      <td>0</td>\n",
       "      <td>...</td>\n",
       "      <td>7</td>\n",
       "      <td>1050</td>\n",
       "      <td>910</td>\n",
       "      <td>1965</td>\n",
       "      <td>0</td>\n",
       "      <td>98136</td>\n",
       "      <td>47.5208</td>\n",
       "      <td>-122.393</td>\n",
       "      <td>1360</td>\n",
       "      <td>5000</td>\n",
       "    </tr>\n",
       "    <tr>\n",
       "      <th>4</th>\n",
       "      <td>1954400510</td>\n",
       "      <td>20150218T000000</td>\n",
       "      <td>510000.0</td>\n",
       "      <td>3</td>\n",
       "      <td>2.00</td>\n",
       "      <td>1680</td>\n",
       "      <td>8080</td>\n",
       "      <td>1.0</td>\n",
       "      <td>0</td>\n",
       "      <td>0</td>\n",
       "      <td>...</td>\n",
       "      <td>8</td>\n",
       "      <td>1680</td>\n",
       "      <td>0</td>\n",
       "      <td>1987</td>\n",
       "      <td>0</td>\n",
       "      <td>98074</td>\n",
       "      <td>47.6168</td>\n",
       "      <td>-122.045</td>\n",
       "      <td>1800</td>\n",
       "      <td>7503</td>\n",
       "    </tr>\n",
       "  </tbody>\n",
       "</table>\n",
       "<p>5 rows × 21 columns</p>\n",
       "</div>"
      ],
      "text/plain": [
       "           id             date     price  bedrooms  bathrooms  sqft_living  \\\n",
       "0  7129300520  20141013T000000  221900.0         3       1.00         1180   \n",
       "1  6414100192  20141209T000000  538000.0         3       2.25         2570   \n",
       "2  5631500400  20150225T000000  180000.0         2       1.00          770   \n",
       "3  2487200875  20141209T000000  604000.0         4       3.00         1960   \n",
       "4  1954400510  20150218T000000  510000.0         3       2.00         1680   \n",
       "\n",
       "   sqft_lot  floors  waterfront  view     ...      grade  sqft_above  \\\n",
       "0      5650     1.0           0     0     ...          7        1180   \n",
       "1      7242     2.0           0     0     ...          7        2170   \n",
       "2     10000     1.0           0     0     ...          6         770   \n",
       "3      5000     1.0           0     0     ...          7        1050   \n",
       "4      8080     1.0           0     0     ...          8        1680   \n",
       "\n",
       "   sqft_basement  yr_built  yr_renovated  zipcode      lat     long  \\\n",
       "0              0      1955             0    98178  47.5112 -122.257   \n",
       "1            400      1951          1991    98125  47.7210 -122.319   \n",
       "2              0      1933             0    98028  47.7379 -122.233   \n",
       "3            910      1965             0    98136  47.5208 -122.393   \n",
       "4              0      1987             0    98074  47.6168 -122.045   \n",
       "\n",
       "   sqft_living15  sqft_lot15  \n",
       "0           1340        5650  \n",
       "1           1690        7639  \n",
       "2           2720        8062  \n",
       "3           1360        5000  \n",
       "4           1800        7503  \n",
       "\n",
       "[5 rows x 21 columns]"
      ]
     },
     "execution_count": 56,
     "metadata": {},
     "output_type": "execute_result"
    }
   ],
   "source": [
    "dataset=pd.read_csv(\"house_data.csv\")\n",
    "dataset.head()\n",
    "# this is pandas dataframe object"
   ]
  },
  {
   "cell_type": "code",
   "execution_count": 57,
   "metadata": {},
   "outputs": [
    {
     "data": {
      "text/html": [
       "<div>\n",
       "<style scoped>\n",
       "    .dataframe tbody tr th:only-of-type {\n",
       "        vertical-align: middle;\n",
       "    }\n",
       "\n",
       "    .dataframe tbody tr th {\n",
       "        vertical-align: top;\n",
       "    }\n",
       "\n",
       "    .dataframe thead th {\n",
       "        text-align: right;\n",
       "    }\n",
       "</style>\n",
       "<table border=\"1\" class=\"dataframe\">\n",
       "  <thead>\n",
       "    <tr style=\"text-align: right;\">\n",
       "      <th></th>\n",
       "      <th>bedrooms</th>\n",
       "      <th>bathrooms</th>\n",
       "      <th>sqft_living</th>\n",
       "      <th>price</th>\n",
       "    </tr>\n",
       "  </thead>\n",
       "  <tbody>\n",
       "    <tr>\n",
       "      <th>0</th>\n",
       "      <td>3</td>\n",
       "      <td>1.00</td>\n",
       "      <td>1180</td>\n",
       "      <td>221900.0</td>\n",
       "    </tr>\n",
       "    <tr>\n",
       "      <th>1</th>\n",
       "      <td>3</td>\n",
       "      <td>2.25</td>\n",
       "      <td>2570</td>\n",
       "      <td>538000.0</td>\n",
       "    </tr>\n",
       "    <tr>\n",
       "      <th>2</th>\n",
       "      <td>2</td>\n",
       "      <td>1.00</td>\n",
       "      <td>770</td>\n",
       "      <td>180000.0</td>\n",
       "    </tr>\n",
       "    <tr>\n",
       "      <th>3</th>\n",
       "      <td>4</td>\n",
       "      <td>3.00</td>\n",
       "      <td>1960</td>\n",
       "      <td>604000.0</td>\n",
       "    </tr>\n",
       "    <tr>\n",
       "      <th>4</th>\n",
       "      <td>3</td>\n",
       "      <td>2.00</td>\n",
       "      <td>1680</td>\n",
       "      <td>510000.0</td>\n",
       "    </tr>\n",
       "  </tbody>\n",
       "</table>\n",
       "</div>"
      ],
      "text/plain": [
       "   bedrooms  bathrooms  sqft_living     price\n",
       "0         3       1.00         1180  221900.0\n",
       "1         3       2.25         2570  538000.0\n",
       "2         2       1.00          770  180000.0\n",
       "3         4       3.00         1960  604000.0\n",
       "4         3       2.00         1680  510000.0"
      ]
     },
     "execution_count": 57,
     "metadata": {},
     "output_type": "execute_result"
    }
   ],
   "source": [
    "x=dataset.loc[:,[\"bedrooms\",\"bathrooms\",\"sqft_living\",\"price\"]]\n",
    "x.head()"
   ]
  },
  {
   "cell_type": "code",
   "execution_count": 61,
   "metadata": {},
   "outputs": [
    {
     "data": {
      "text/html": [
       "<div>\n",
       "<style scoped>\n",
       "    .dataframe tbody tr th:only-of-type {\n",
       "        vertical-align: middle;\n",
       "    }\n",
       "\n",
       "    .dataframe tbody tr th {\n",
       "        vertical-align: top;\n",
       "    }\n",
       "\n",
       "    .dataframe thead th {\n",
       "        text-align: right;\n",
       "    }\n",
       "</style>\n",
       "<table border=\"1\" class=\"dataframe\">\n",
       "  <thead>\n",
       "    <tr style=\"text-align: right;\">\n",
       "      <th></th>\n",
       "      <th>bedrooms</th>\n",
       "      <th>bathrooms</th>\n",
       "      <th>sqft_living</th>\n",
       "      <th>price</th>\n",
       "    </tr>\n",
       "  </thead>\n",
       "  <tbody>\n",
       "    <tr>\n",
       "      <th>0</th>\n",
       "      <td>-0.398728</td>\n",
       "      <td>-1.447430</td>\n",
       "      <td>-0.979812</td>\n",
       "      <td>-0.866697</td>\n",
       "    </tr>\n",
       "    <tr>\n",
       "      <th>1</th>\n",
       "      <td>-0.398728</td>\n",
       "      <td>0.175603</td>\n",
       "      <td>0.533622</td>\n",
       "      <td>-0.005688</td>\n",
       "    </tr>\n",
       "    <tr>\n",
       "      <th>2</th>\n",
       "      <td>-1.473925</td>\n",
       "      <td>-1.447430</td>\n",
       "      <td>-1.426221</td>\n",
       "      <td>-0.980827</td>\n",
       "    </tr>\n",
       "    <tr>\n",
       "      <th>3</th>\n",
       "      <td>0.676469</td>\n",
       "      <td>1.149422</td>\n",
       "      <td>-0.130547</td>\n",
       "      <td>0.174086</td>\n",
       "    </tr>\n",
       "    <tr>\n",
       "      <th>4</th>\n",
       "      <td>-0.398728</td>\n",
       "      <td>-0.149004</td>\n",
       "      <td>-0.435412</td>\n",
       "      <td>-0.081956</td>\n",
       "    </tr>\n",
       "  </tbody>\n",
       "</table>\n",
       "</div>"
      ],
      "text/plain": [
       "   bedrooms  bathrooms  sqft_living     price\n",
       "0 -0.398728  -1.447430    -0.979812 -0.866697\n",
       "1 -0.398728   0.175603     0.533622 -0.005688\n",
       "2 -1.473925  -1.447430    -1.426221 -0.980827\n",
       "3  0.676469   1.149422    -0.130547  0.174086\n",
       "4 -0.398728  -0.149004    -0.435412 -0.081956"
      ]
     },
     "execution_count": 61,
     "metadata": {},
     "output_type": "execute_result"
    }
   ],
   "source": [
    "# applying feature scaling\n",
    "data=(x-x.mean())/x.std()\n",
    "\n",
    "data.head()"
   ]
  },
  {
   "cell_type": "code",
   "execution_count": 62,
   "metadata": {},
   "outputs": [
    {
     "data": {
      "text/plain": [
       "array([[-0.39872792, -1.44743008, -0.97981235, -0.86669728],\n",
       "       [-0.39872792,  0.17560263,  0.53362199, -0.00568779],\n",
       "       [-1.47392526, -1.44743008, -1.42622105, -0.98082666],\n",
       "       ...,\n",
       "       [-1.47392526, -1.77203663, -1.15402062, -0.3758565 ],\n",
       "       [-0.39872792,  0.50020918, -0.52251564, -0.38157931],\n",
       "       [-1.47392526, -1.77203663, -1.15402062, -0.58586818]])"
      ]
     },
     "execution_count": 62,
     "metadata": {},
     "output_type": "execute_result"
    }
   ],
   "source": [
    "# convertind pandas dataFrame object to numpy array for faster indexing\n",
    "data=data.values\n",
    "N=len(data)\n",
    "data"
   ]
  },
  {
   "cell_type": "markdown",
   "metadata": {},
   "source": [
    "<h3>\n",
    "making <strong>y=H(X)=X.Theta </strong> as is a matrix of independent features of all training data represented each instance \n",
    "as row and features as column where column first is 1.\n",
    "theta is vector of features and h(x)=y is vector of parameters</h3>"
   ]
  },
  {
   "cell_type": "code",
   "execution_count": 63,
   "metadata": {},
   "outputs": [
    {
     "data": {
      "text/plain": [
       "array([[1.],\n",
       "       [1.],\n",
       "       [1.],\n",
       "       ...,\n",
       "       [1.],\n",
       "       [1.],\n",
       "       [1.]])"
      ]
     },
     "execution_count": 63,
     "metadata": {},
     "output_type": "execute_result"
    }
   ],
   "source": [
    "temp = np.ones(N).reshape(N,1)\n",
    "temp"
   ]
  },
  {
   "cell_type": "code",
   "execution_count": 64,
   "metadata": {},
   "outputs": [
    {
     "data": {
      "text/plain": [
       "array([[-0.39872792, -1.44743008, -0.97981235],\n",
       "       [-0.39872792,  0.17560263,  0.53362199],\n",
       "       [-1.47392526, -1.44743008, -1.42622105],\n",
       "       ...,\n",
       "       [-1.47392526, -1.77203663, -1.15402062],\n",
       "       [-0.39872792,  0.50020918, -0.52251564],\n",
       "       [-1.47392526, -1.77203663, -1.15402062]])"
      ]
     },
     "execution_count": 64,
     "metadata": {},
     "output_type": "execute_result"
    }
   ],
   "source": [
    "temp_data=data[:,:-1]\n",
    "temp_data"
   ]
  },
  {
   "cell_type": "code",
   "execution_count": 65,
   "metadata": {},
   "outputs": [
    {
     "data": {
      "text/plain": [
       "array([[-0.86669728],\n",
       "       [-0.00568779],\n",
       "       [-0.98082666],\n",
       "       ...,\n",
       "       [-0.3758565 ],\n",
       "       [-0.38157931],\n",
       "       [-0.58586818]])"
      ]
     },
     "execution_count": 65,
     "metadata": {},
     "output_type": "execute_result"
    }
   ],
   "source": [
    "y=data[:,-1].reshape(N,1)\n",
    "y"
   ]
  },
  {
   "cell_type": "code",
   "execution_count": 66,
   "metadata": {},
   "outputs": [
    {
     "data": {
      "text/plain": [
       "(21613, 1)"
      ]
     },
     "execution_count": 66,
     "metadata": {},
     "output_type": "execute_result"
    }
   ],
   "source": [
    "temp.shape"
   ]
  },
  {
   "cell_type": "code",
   "execution_count": 67,
   "metadata": {},
   "outputs": [
    {
     "data": {
      "text/plain": [
       "array([[ 1.        , -0.39872792, -1.44743008, -0.97981235],\n",
       "       [ 1.        , -0.39872792,  0.17560263,  0.53362199],\n",
       "       [ 1.        , -1.47392526, -1.44743008, -1.42622105],\n",
       "       ...,\n",
       "       [ 1.        , -1.47392526, -1.77203663, -1.15402062],\n",
       "       [ 1.        , -0.39872792,  0.50020918, -0.52251564],\n",
       "       [ 1.        , -1.47392526, -1.77203663, -1.15402062]])"
      ]
     },
     "execution_count": 67,
     "metadata": {},
     "output_type": "execute_result"
    }
   ],
   "source": [
    "x=np.concatenate((temp,temp_data),axis=1)\n",
    "x"
   ]
  },
  {
   "cell_type": "code",
   "execution_count": 84,
   "metadata": {},
   "outputs": [],
   "source": [
    "# computing cost by vector matrix method(no loop needes as every ith item of training set are in single matrix)\n",
    "def error_calculation_vector(theta):\n",
    "    error=np.power(((np.dot(x,theta))-y),2)\n",
    "    #avg_error=np.sum(error)/N\n",
    "    avg_error=np.mean(error,axis=0)\n",
    "    return avg_error\n"
   ]
  },
  {
   "cell_type": "code",
   "execution_count": 150,
   "metadata": {},
   "outputs": [],
   "source": [
    "#computing cost by iterative method\n",
    "def error_calculation_iterative(a,b,c,d):\n",
    "    total_error = 0\n",
    "\n",
    "    for i in range(N):\n",
    "        real_output = y[i]\n",
    "        x0 = x[i,0]\n",
    "        x1 = x[i,1]\n",
    "        x2 = x[i,2]\n",
    "        x3 = x[i,3]\n",
    "        predicted_output = (a*x0+b*x1+c*x2+d*x3)\n",
    "        total_error+=(predicted_output-real_output)**2\n",
    "    return total_error/N\n"
   ]
  },
  {
   "cell_type": "code",
   "execution_count": 113,
   "metadata": {},
   "outputs": [],
   "source": [
    "#applying gradient descent by vector method\n",
    "def gradient_descent_vector(theta,learning_rate):\n",
    "    d_theta=2*(np.dot(x,theta)-y)*(x)\n",
    "    # also can broadcast withiout matrix multipiction \n",
    "    #d_theta=2*(x*theta.T-y)*(x)\n",
    "    #here d_theta is vectoron N*4 where N is no of training set and axis 1 is its theta0,....theta4\n",
    "    avg_theta=np.mean(d_theta,axis=0)\n",
    "    #making column vector\n",
    "    avg_theta=avg_theta.reshape(len(avg_theta),1)\n",
    "    # moving towards minima with constant learning rate\n",
    "    theta_new=theta-learning_rate*avg_theta\n",
    "    return theta_new\n",
    "    "
   ]
  },
  {
   "cell_type": "code",
   "execution_count": 166,
   "metadata": {},
   "outputs": [],
   "source": [
    "#applying gradient descent in iterative method\n",
    "def gradient_descent_iterative(a,b,c,d, learning_rate):\n",
    "    da=0\n",
    "    db=0\n",
    "    dc=0\n",
    "    dd=0\n",
    "    for i in range(N):\n",
    "        real_output = y[i]\n",
    "        x0 = x[i,0]\n",
    "        x1 = x[i,1]\n",
    "        x2 = x[i,2]\n",
    "        x3 = x[i,3]\n",
    "        da+=(2/N)*(a*x0+b*x1+c*x2+d*x3-real_output)*x0\n",
    "        db+=(2/N)*(a*x0+b*x1+c*x2+d*x3-real_output)*x1\n",
    "        dc+=(2/N)*(a*x0+b*x1+c*x2+d*x3-real_output)*x2\n",
    "        dd+=(2/N)*(a*x0+b*x1+c*x2+d*x3-real_output)*x3\n",
    "    new_a=a-learning_rate*da\n",
    "    new_b=b-learning_rate*db\n",
    "    new_c=c-learning_rate*dc\n",
    "    new_d=d-learning_rate*dd\n",
    "    return [new_a,new_b,new_c,new_d]\n",
    "\n",
    "    \n",
    "    "
   ]
  },
  {
   "cell_type": "code",
   "execution_count": 171,
   "metadata": {},
   "outputs": [],
   "source": [
    "def gradient_descent_looper_vector(iteration,theta):\n",
    "    learning_rate=0.001\n",
    "    #iteration+1 so it can  print info even on 1000th iter if  i initalized iteration 1000..also for last iter\n",
    "    for i in range(iteration+1):\n",
    "        theta=gradient_descent_vector(theta,learning_rate)\n",
    "        if (i%10000)==0:\n",
    "            print(f'At step {i} line is {theta[0]}+{theta[1]}X1+{theta[2]}X2+{theta[3]}X3 ----->ERROR: {error_calculation_vector(theta)}')\n",
    "    return theta\n",
    "                  \n",
    "        "
   ]
  },
  {
   "cell_type": "code",
   "execution_count": 172,
   "metadata": {},
   "outputs": [
    {
     "data": {
      "text/plain": [
       "array([[0],\n",
       "       [0],\n",
       "       [0],\n",
       "       [0]])"
      ]
     },
     "execution_count": 172,
     "metadata": {},
     "output_type": "execute_result"
    }
   ],
   "source": [
    "#constructing theta vector ,initialising every element 0\n",
    "theta=np.array([0,0,0,0]).reshape(4,1)\n",
    "theta"
   ]
  },
  {
   "cell_type": "code",
   "execution_count": 173,
   "metadata": {},
   "outputs": [
    {
     "name": "stdout",
     "output_type": "stream",
     "text": [
      "At step 0 line is [-6.83814783e-20]+[0.00061667]X1+[0.00105023]X2+[0.00140401]X3 ----->ERROR: [0.99650659]\n",
      "At step 10000 line is [-1.84594157e-16]+[-0.14601984]X1+[0.01976687]X2+[0.77047347]X3 ----->ERROR: [0.49306281]\n",
      "At step 20000 line is [-1.87353087e-16]+[-0.14657739]X1+[0.01666692]X2+[0.77397706]X3 ----->ERROR: [0.49305739]\n",
      "At step 30000 line is [-1.87349141e-16]+[-0.14658188]X1+[0.01664153]X2+[0.77400569]X3 ----->ERROR: [0.49305739]\n",
      "At step 40000 line is [-1.87320211e-16]+[-0.14658192]X1+[0.01664133]X2+[0.77400592]X3 ----->ERROR: [0.49305739]\n",
      "At step 50000 line is [-1.87335991e-16]+[-0.14658192]X1+[0.01664132]X2+[0.77400592]X3 ----->ERROR: [0.49305739]\n",
      "At step 60000 line is [-1.87343881e-16]+[-0.14658192]X1+[0.01664132]X2+[0.77400592]X3 ----->ERROR: [0.49305739]\n",
      "At step 70000 line is [-1.87347826e-16]+[-0.14658192]X1+[0.01664132]X2+[0.77400592]X3 ----->ERROR: [0.49305739]\n",
      "At step 80000 line is [-1.87349141e-16]+[-0.14658192]X1+[0.01664132]X2+[0.77400592]X3 ----->ERROR: [0.49305739]\n",
      "At step 90000 line is [-1.87350456e-16]+[-0.14658192]X1+[0.01664132]X2+[0.77400592]X3 ----->ERROR: [0.49305739]\n",
      "At step 100000 line is [-1.87339936e-16]+[-0.14658192]X1+[0.01664132]X2+[0.77400592]X3 ----->ERROR: [0.49305739]\n"
     ]
    }
   ],
   "source": [
    "desired_theta=gradient_descent_looper_vector(100000,theta)"
   ]
  },
  {
   "cell_type": "code",
   "execution_count": 174,
   "metadata": {},
   "outputs": [],
   "source": [
    "#since matrix manipulation is very fast so iterating 100K times\n",
    "# in iterative its slow is only 100 times>HAHAHAHHA"
   ]
  },
  {
   "cell_type": "code",
   "execution_count": 168,
   "metadata": {},
   "outputs": [],
   "source": [
    "def gradient_descent_looper_iterative(iteration,a,b,c,d):\n",
    "    learning_rate=0.001\n",
    "    #iteration+1 so it can  print info even on 1000th iter if  i initalized iteration 1000..also for last iter\n",
    "    for i in range(iteration+1):\n",
    "        a,b,c,d=gradient_descent_iterative(a,b,c,d,learning_rate)\n",
    "        if (i%10)==0:\n",
    "            print(f'At step {i} line is {a}+{b}X1+{c}X2+{d}X3 ----->ERROR: {error_calculation_iterative(a,b,c,d)}')\n",
    "    return [a,b,c,d]\n",
    "                  \n",
    "        "
   ]
  },
  {
   "cell_type": "code",
   "execution_count": 169,
   "metadata": {},
   "outputs": [
    {
     "name": "stdout",
     "output_type": "stream",
     "text": [
      "At step 0 line is [-3.5812553e-20]+[0.00061667]X1+[0.00105023]X2+[0.00140401]X3 ----->ERROR: [0.99650659]\n",
      "At step 10 line is [-5.83273664e-19]+[0.00656996]X1+[0.01128894]X2+[0.01516694]X3 ----->ERROR: [0.9636023]\n",
      "At step 20 line is [-1.5435583e-18]+[0.01214797]X1+[0.02106308]X2+[0.02844102]X3 ----->ERROR: [0.93337673]\n",
      "At step 30 line is [-1.86054514e-18]+[0.01736828]X1+[0.03039276]X2+[0.04124695]X3 ----->ERROR: [0.90560241]\n",
      "At step 40 line is [-2.5544142e-18]+[0.02224766]X1+[0.03929725]X2+[0.05360451]X3 ----->ERROR: [0.88007134]\n",
      "At step 50 line is [-3.12154003e-18]+[0.02680218]X1+[0.04779495]X2+[0.06553266]X3 ----->ERROR: [0.85659331]\n",
      "At step 60 line is [-4.59618373e-18]+[0.03104715]X1+[0.05590349]X2+[0.07704949]X3 ----->ERROR: [0.8349944]\n",
      "At step 70 line is [-5.46931885e-18]+[0.03499723]X1+[0.06363971]X2+[0.08817232]X3 ----->ERROR: [0.81511556]\n",
      "At step 80 line is [-6.00145205e-18]+[0.03866641]X1+[0.07101972]X2+[0.09891773]X3 ----->ERROR: [0.79681136]\n",
      "At step 90 line is [-7.04922164e-18]+[0.04206806]X1+[0.07805892]X2+[0.10930155]X3 ----->ERROR: [0.77994879]\n",
      "At step 100 line is [-8.25083613e-18]+[0.04521495]X1+[0.08477205]X2+[0.11933894]X3 ----->ERROR: [0.76440623]\n"
     ]
    }
   ],
   "source": [
    "desired_a,desired_b,desired_c,desired_d=gradient_descent_looper_iterative(100,0,0,0,0)"
   ]
  },
  {
   "cell_type": "code",
   "execution_count": 170,
   "metadata": {},
   "outputs": [],
   "source": [
    "# for testing first do feature scaling for independent frature and computedesired value Y\n",
    "# since our y is also featured scale apply reverse feature scaling to output as we have to scale back it to orginalfor\n",
    "#y*std+mean\n"
   ]
  },
  {
   "cell_type": "code",
   "execution_count": null,
   "metadata": {},
   "outputs": [],
   "source": []
  }
 ],
 "metadata": {
  "kernelspec": {
   "display_name": "Python 3",
   "language": "python",
   "name": "python3"
  },
  "language_info": {
   "codemirror_mode": {
    "name": "ipython",
    "version": 3
   },
   "file_extension": ".py",
   "mimetype": "text/x-python",
   "name": "python",
   "nbconvert_exporter": "python",
   "pygments_lexer": "ipython3",
   "version": "3.6.5"
  }
 },
 "nbformat": 4,
 "nbformat_minor": 2
}
